{
  "nbformat": 4,
  "nbformat_minor": 0,
  "metadata": {
    "colab": {
      "provenance": [],
      "collapsed_sections": [],
      "authorship_tag": "ABX9TyPOe40+rLVQaIP+aJn/ASY9",
      "include_colab_link": true
    },
    "kernelspec": {
      "name": "python3",
      "display_name": "Python 3"
    },
    "language_info": {
      "name": "python"
    }
  },
  "cells": [
    {
      "cell_type": "markdown",
      "metadata": {
        "id": "view-in-github",
        "colab_type": "text"
      },
      "source": [
        "<a href=\"https://colab.research.google.com/github/ayoub-sys/deepLearning/blob/main/CNN_MNIST.ipynb\" target=\"_parent\"><img src=\"https://colab.research.google.com/assets/colab-badge.svg\" alt=\"Open In Colab\"/></a>"
      ]
    },
    {
      "cell_type": "code",
      "execution_count": null,
      "metadata": {
        "id": "6B2SrMMLpHdm"
      },
      "outputs": [],
      "source": [
        "import tensorflow as tf \n",
        "import tensorflow_datasets as tfds\n"
      ]
    },
    {
      "cell_type": "markdown",
      "source": [
        "**Downloadnig and preprocessing the data**"
      ],
      "metadata": {
        "id": "27DycTo9wAEd"
      }
    },
    {
      "cell_type": "code",
      "source": [
        "BUFFER_SIZE=70_000\n",
        "BATCH_SIZE=128\n",
        "NUM_EPOCHS=20\n"
      ],
      "metadata": {
        "id": "gETbC-GBwEuV"
      },
      "execution_count": null,
      "outputs": []
    },
    {
      "cell_type": "code",
      "source": [
        "mnist_dataset, mnist_info=tfds.load(name=\"mnist\", with_info=True,as_supervised=True)"
      ],
      "metadata": {
        "id": "G-LeFx0KwhHx"
      },
      "execution_count": null,
      "outputs": []
    },
    {
      "cell_type": "code",
      "source": [
        "mnist_train, mnist_test=mnist_dataset['train'],mnist_dataset['test']\n"
      ],
      "metadata": {
        "id": "9CBIoUoVxQ0C"
      },
      "execution_count": null,
      "outputs": []
    },
    {
      "cell_type": "code",
      "source": [
        "def scale(image,label):\n",
        "  image=tf.cast(image,tf.float32)\n",
        "  image/=255.\n",
        "  return image,label"
      ],
      "metadata": {
        "id": "RQ25MMTqx1bO"
      },
      "execution_count": null,
      "outputs": []
    },
    {
      "cell_type": "code",
      "source": [
        "train_and_validation_data=mnist_train.map(scale)\n",
        "test_data=mnist_test.map(scale)"
      ],
      "metadata": {
        "id": "YLX_iWuQyPkW"
      },
      "execution_count": null,
      "outputs": []
    },
    {
      "cell_type": "code",
      "source": [
        "num_validation_samples=0.1*mnist_info.splits['train'].num_examples\n",
        "num_validation_samples=tf.cast(num_validation_samples,tf.int64)"
      ],
      "metadata": {
        "id": "yRdiXgqXzoAy"
      },
      "execution_count": null,
      "outputs": []
    },
    {
      "cell_type": "code",
      "source": [
        "num_test_samples=mnist_info.splits['test'].num_examples\n",
        "num_test_samples=tf.cast(num_test_samples,tf.int64)"
      ],
      "metadata": {
        "id": "5F5gixCX0S82"
      },
      "execution_count": null,
      "outputs": []
    },
    {
      "cell_type": "code",
      "source": [
        "train_and_validation_data=train_and_validation_data.shuffle(BUFFER_SIZE)\n"
      ],
      "metadata": {
        "id": "nuYzzlaT1VnJ"
      },
      "execution_count": null,
      "outputs": []
    },
    {
      "cell_type": "code",
      "source": [
        "train_data=train_and_validation_data.skip(num_validation_samples)\n",
        "validation_data=train_and_validation_data.take(num_validation_samples)"
      ],
      "metadata": {
        "id": "3WBfUv-G57bM"
      },
      "execution_count": null,
      "outputs": []
    },
    {
      "cell_type": "code",
      "source": [
        "train_data=train_data.batch(BATCH_SIZE)\n",
        "validation_data=validation_data.batch(num_validation_samples)\n",
        "test_data=test_data.batch(num_test_samples)"
      ],
      "metadata": {
        "id": "eg7YBPpY7JLq"
      },
      "execution_count": null,
      "outputs": []
    },
    {
      "cell_type": "markdown",
      "source": [
        "**Creating the model and training it**"
      ],
      "metadata": {
        "id": "tKAnoKYx-VjX"
      }
    },
    {
      "cell_type": "code",
      "source": [
        "model=tf.keras.Sequential([\n",
        "    tf.keras.layers.Conv2D(50,5,activation='relu',input_shape=(28,28,1)),\n",
        "    tf.keras.layers.MaxPooling2D(pool_size=(2,2)),\n",
        "    tf.keras.layers.Conv2D(50,3,activation='relu'),\n",
        "    tf.keras.layers.MaxPooling2D(pool_size=(2,2)),\n",
        "    tf.keras.layers.Flatten(),\n",
        "    tf.keras.layers.Dense(10)\n",
        "])"
      ],
      "metadata": {
        "id": "7oH08buL-YlA"
      },
      "execution_count": null,
      "outputs": []
    },
    {
      "cell_type": "code",
      "source": [
        "model.summary(line_length=75)"
      ],
      "metadata": {
        "colab": {
          "base_uri": "https://localhost:8080/"
        },
        "id": "snC3qtKlATl6",
        "outputId": "a916ccc6-894e-4567-d000-e446328867ee"
      },
      "execution_count": null,
      "outputs": [
        {
          "output_type": "stream",
          "name": "stdout",
          "text": [
            "Model: \"sequential\"\n",
            "___________________________________________________________________________\n",
            " Layer (type)                    Output Shape                  Param #     \n",
            "===========================================================================\n",
            " conv2d_2 (Conv2D)               (None, 24, 24, 50)            1300        \n",
            "                                                                           \n",
            " max_pooling2d_1 (MaxPooling2D)  (None, 12, 12, 50)            0           \n",
            "                                                                           \n",
            " conv2d_3 (Conv2D)               (None, 10, 10, 50)            22550       \n",
            "                                                                           \n",
            " max_pooling2d_2 (MaxPooling2D)  (None, 5, 5, 50)              0           \n",
            "                                                                           \n",
            " flatten (Flatten)               (None, 1250)                  0           \n",
            "                                                                           \n",
            " dense (Dense)                   (None, 10)                    12510       \n",
            "                                                                           \n",
            "===========================================================================\n",
            "Total params: 36,360\n",
            "Trainable params: 36,360\n",
            "Non-trainable params: 0\n",
            "___________________________________________________________________________\n"
          ]
        }
      ]
    },
    {
      "cell_type": "code",
      "source": [
        "loss_fn=tf.keras.losses.SparseCategoricalCrossentropy(from_logits=True)"
      ],
      "metadata": {
        "id": "mZF1PNuMFs6r"
      },
      "execution_count": 17,
      "outputs": []
    },
    {
      "cell_type": "code",
      "source": [
        "model.compile(optimizer=\"adam\",loss=loss_fn,metrics=['accuracy'])"
      ],
      "metadata": {
        "id": "CcA4jNofGxzb"
      },
      "execution_count": 18,
      "outputs": []
    },
    {
      "cell_type": "code",
      "source": [
        "early_stopping=tf.keras.callbacks.EarlyStopping(\n",
        "    monitor='val_loss',\n",
        "    mode='auto',\n",
        "    min_delta=0,\n",
        "    patience=2,\n",
        "    verbose=0,\n",
        "    restore_best_weights=True\n",
        ")"
      ],
      "metadata": {
        "id": "IgdH1q6fHJkU"
      },
      "execution_count": 19,
      "outputs": []
    },
    {
      "cell_type": "code",
      "source": [
        "model.fit(\n",
        "    train_data,\n",
        "    epochs=NUM_EPOCHS,\n",
        "    callbacks=[early_stopping],\n",
        "    validation_data=validation_data,\n",
        "    verbose=2\n",
        ")"
      ],
      "metadata": {
        "colab": {
          "base_uri": "https://localhost:8080/"
        },
        "id": "ng5F3Md8H1rR",
        "outputId": "710e0795-2326-4635-8695-072a6caf7b04"
      },
      "execution_count": 20,
      "outputs": [
        {
          "output_type": "stream",
          "name": "stdout",
          "text": [
            "Epoch 1/20\n",
            "422/422 - 46s - loss: 0.2708 - accuracy: 0.9240 - val_loss: 0.0826 - val_accuracy: 0.9743 - 46s/epoch - 109ms/step\n",
            "Epoch 2/20\n",
            "422/422 - 41s - loss: 0.0719 - accuracy: 0.9778 - val_loss: 0.0531 - val_accuracy: 0.9845 - 41s/epoch - 98ms/step\n",
            "Epoch 3/20\n",
            "422/422 - 41s - loss: 0.0530 - accuracy: 0.9835 - val_loss: 0.0440 - val_accuracy: 0.9872 - 41s/epoch - 98ms/step\n",
            "Epoch 4/20\n",
            "422/422 - 42s - loss: 0.0454 - accuracy: 0.9866 - val_loss: 0.0283 - val_accuracy: 0.9913 - 42s/epoch - 99ms/step\n",
            "Epoch 5/20\n",
            "422/422 - 48s - loss: 0.0379 - accuracy: 0.9884 - val_loss: 0.0274 - val_accuracy: 0.9910 - 48s/epoch - 114ms/step\n",
            "Epoch 6/20\n",
            "422/422 - 46s - loss: 0.0327 - accuracy: 0.9897 - val_loss: 0.0266 - val_accuracy: 0.9913 - 46s/epoch - 110ms/step\n",
            "Epoch 7/20\n",
            "422/422 - 48s - loss: 0.0296 - accuracy: 0.9910 - val_loss: 0.0229 - val_accuracy: 0.9927 - 48s/epoch - 114ms/step\n",
            "Epoch 8/20\n",
            "422/422 - 48s - loss: 0.0235 - accuracy: 0.9929 - val_loss: 0.0164 - val_accuracy: 0.9962 - 48s/epoch - 114ms/step\n",
            "Epoch 9/20\n",
            "422/422 - 41s - loss: 0.0228 - accuracy: 0.9925 - val_loss: 0.0174 - val_accuracy: 0.9945 - 41s/epoch - 98ms/step\n",
            "Epoch 10/20\n",
            "422/422 - 41s - loss: 0.0206 - accuracy: 0.9935 - val_loss: 0.0160 - val_accuracy: 0.9948 - 41s/epoch - 98ms/step\n",
            "Epoch 11/20\n",
            "422/422 - 54s - loss: 0.0175 - accuracy: 0.9944 - val_loss: 0.0165 - val_accuracy: 0.9945 - 54s/epoch - 127ms/step\n",
            "Epoch 12/20\n",
            "422/422 - 49s - loss: 0.0151 - accuracy: 0.9954 - val_loss: 0.0191 - val_accuracy: 0.9942 - 49s/epoch - 116ms/step\n"
          ]
        },
        {
          "output_type": "execute_result",
          "data": {
            "text/plain": [
              "<keras.callbacks.History at 0x7f70d02cfb10>"
            ]
          },
          "metadata": {},
          "execution_count": 20
        }
      ]
    },
    {
      "cell_type": "markdown",
      "source": [
        "**Testing our model**"
      ],
      "metadata": {
        "id": "xCZL0uZeJgUA"
      }
    },
    {
      "cell_type": "code",
      "source": [
        "# testing our model \n",
        "test_loss,test_accuracy=model.evaluate(test_data)\n"
      ],
      "metadata": {
        "id": "Ds7MBF1LJka1"
      },
      "execution_count": null,
      "outputs": []
    },
    {
      "cell_type": "code",
      "source": [
        "# printing the test results \n",
        "print('Test loss:{0: .4f}.Test accuracy:{1:.2f}%'.format(test_loss,test_accuracy*100.))"
      ],
      "metadata": {
        "colab": {
          "base_uri": "https://localhost:8080/"
        },
        "id": "rJ3PTVVIJ7rH",
        "outputId": "4212fc94-f46c-4d38-ca14-657c8aac3ded"
      },
      "execution_count": 22,
      "outputs": [
        {
          "output_type": "stream",
          "name": "stdout",
          "text": [
            "Test loss: 0.0280.Test accuracy:99.12%\n"
          ]
        }
      ]
    },
    {
      "cell_type": "markdown",
      "source": [
        "**Plotting the images and the results**"
      ],
      "metadata": {
        "id": "h26OeluCK5ul"
      }
    },
    {
      "cell_type": "code",
      "source": [
        "import matplotlib.pyplot as plt \n",
        "import numpy as np \n"
      ],
      "metadata": {
        "id": "s0CGcejjK_-Z"
      },
      "execution_count": 23,
      "outputs": []
    },
    {
      "cell_type": "code",
      "source": [
        "#split the test data into 2 arrays,containing the images and the corresponding labels \n",
        "for images, labels in test_data.take(1):\n",
        "  images_test=images.numpy()\n",
        "  labels_test=labels.numpy()\n",
        "\n",
        "# Reshape the images into 28*28 form, suitable for matplotlib (original dimension: 28*28*1)\n",
        "images_plot=np.reshape(images_test,(10000,28,28))"
      ],
      "metadata": {
        "id": "JHNXeg4VLKbd"
      },
      "execution_count": 24,
      "outputs": []
    },
    {
      "cell_type": "code",
      "source": [
        "#the image to be displayed and tested \n",
        "i=1\n",
        "\n",
        "#plot the image \n",
        "plt.figure(figsize=(2,2))\n",
        "plt.axis('off')\n",
        "plt.imshow(images_plot[i-1],cmap=\"gray\",aspect=\"auto\")\n",
        "plt.show()\n",
        "\n",
        "#print the correct label for the image \n",
        "\n",
        "print(\"Label: {}\".format(labels_test[i-1]))"
      ],
      "metadata": {
        "colab": {
          "base_uri": "https://localhost:8080/",
          "height": 157
        },
        "id": "_m9Vz4aeMzLl",
        "outputId": "d48f2a6c-0995-4469-f4e8-03f6f14100ea"
      },
      "execution_count": 25,
      "outputs": [
        {
          "output_type": "display_data",
          "data": {
            "text/plain": [
              "<Figure size 144x144 with 1 Axes>"
            ],
            "image/png": "[encoded data removed]"
          },
          "metadata": {
            "needs_background": "light"
          }
        },
        {
          "output_type": "stream",
          "name": "stdout",
          "text": [
            "Label: 2\n"
          ]
        }
      ]
    },
    {
      "cell_type": "code",
      "source": [
        "# obtain the model prediction (logits)\n",
        "predictions=model.predict(images_test[i-1:i])\n",
        "\n",
        "#convert those predictions into probabilities ( recall that  we incorporated the softmax activation )\n",
        "probabilities=tf.nn.softmax(predictions).numpy()\n",
        "\n",
        "#convert the probability into  percentages \n",
        "probabilities=probabilities*100\n",
        "\n",
        "#create a bar  chart to plot the probabiltiy for each class \n",
        "plt.figure(figsize=(12,5))\n",
        "plt.bar(x=[1,2,3,4,5,6,7,8,9,10],height=probabilities[0],tick_label=[\"0\",\"1\",\"2\",\"3\",\"4\",\"5\",\"6\",\"7\",\"8\",\"9\"])"
      ],
      "metadata": {
        "colab": {
          "base_uri": "https://localhost:8080/",
          "height": 355
        },
        "id": "F4A9q5vwOCkI",
        "outputId": "d1b522a9-e705-48c8-8ab7-01c1d74f9faa"
      },
      "execution_count": 27,
      "outputs": [
        {
          "output_type": "stream",
          "name": "stdout",
          "text": [
            "1/1 [==============================] - 0s 38ms/step\n"
          ]
        },
        {
          "output_type": "execute_result",
          "data": {
            "text/plain": [
              "<BarContainer object of 10 artists>"
            ]
          },
          "metadata": {},
          "execution_count": 27
        },
        {
          "output_type": "display_data",
          "data": {
            "text/plain": [
              "<Figure size 864x360 with 1 Axes>"
            ],
            "image/png": "[encoded data removed]"
          },
          "metadata": {
            "needs_background": "light"
          }
        }
      ]
    }
  ]
}